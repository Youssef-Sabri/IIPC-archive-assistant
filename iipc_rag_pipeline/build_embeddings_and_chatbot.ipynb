{
 "cells": [
  {
   "cell_type": "code",
   "execution_count": 1,
   "metadata": {
    "execution": {
     "iopub.execute_input": "2025-08-03T23:12:19.230607Z",
     "iopub.status.busy": "2025-08-03T23:12:19.230375Z",
     "iopub.status.idle": "2025-08-03T23:12:21.392787Z",
     "shell.execute_reply": "2025-08-03T23:12:21.392172Z",
     "shell.execute_reply.started": "2025-08-03T23:12:19.230583Z"
    },
    "trusted": true
   },
   "outputs": [
    {
     "data": {
      "text/html": [
       "<div>\n",
       "<style scoped>\n",
       "    .dataframe tbody tr th:only-of-type {\n",
       "        vertical-align: middle;\n",
       "    }\n",
       "\n",
       "    .dataframe tbody tr th {\n",
       "        vertical-align: top;\n",
       "    }\n",
       "\n",
       "    .dataframe thead th {\n",
       "        text-align: right;\n",
       "    }\n",
       "</style>\n",
       "<table border=\"1\" class=\"dataframe\">\n",
       "  <thead>\n",
       "    <tr style=\"text-align: right;\">\n",
       "      <th></th>\n",
       "      <th>ark_url</th>\n",
       "      <th>title</th>\n",
       "      <th>date</th>\n",
       "      <th>creator</th>\n",
       "      <th>subject</th>\n",
       "      <th>description</th>\n",
       "      <th>item_type</th>\n",
       "      <th>source_url</th>\n",
       "      <th>full_text</th>\n",
       "      <th>cleaned_text</th>\n",
       "    </tr>\n",
       "  </thead>\n",
       "  <tbody>\n",
       "    <tr>\n",
       "      <th>0</th>\n",
       "      <td>https://digital.library.unt.edu/ark:/67531/met...</td>\n",
       "      <td>The End of Term Archive: Collaboratively Prese...</td>\n",
       "      <td>2018-11-13</td>\n",
       "      <td>Phillips, Mark Edward</td>\n",
       "      <td>digital libraries; government documents; web a...</td>\n",
       "      <td>Presentation the 2018 International Internet P...</td>\n",
       "      <td>Presentation</td>\n",
       "      <td>https://digital.library.unt.edu/ark:/67531/met...</td>\n",
       "      <td>Mark Phillips, UNT Libraries \\nAbbie Grotke, L...</td>\n",
       "      <td>---\\n# **The End of Term Archive: Collaborativ...</td>\n",
       "    </tr>\n",
       "    <tr>\n",
       "      <th>1</th>\n",
       "      <td>https://digital.library.unt.edu/ark:/67531/met...</td>\n",
       "      <td>Warcbase: Building a Scalable Web Archiving Pl...</td>\n",
       "      <td>2015-04-28</td>\n",
       "      <td>Lin, Jimmy</td>\n",
       "      <td>digital preservation; web archiving; historica...</td>\n",
       "      <td>Presentation for the 2015 International Intern...</td>\n",
       "      <td>Presentation</td>\n",
       "      <td>https://digital.library.unt.edu/ark:/67531/met...</td>\n",
       "      <td>Warcbase: Building a Scalable Web Archiving Pl...</td>\n",
       "      <td>---\\n## Warcbase: Building a Scalable Web Arch...</td>\n",
       "    </tr>\n",
       "    <tr>\n",
       "      <th>2</th>\n",
       "      <td>https://digital.library.unt.edu/ark:/67531/met...</td>\n",
       "      <td>WARC Standard Revision Workshop</td>\n",
       "      <td>2015-04-28</td>\n",
       "      <td>Oury, Clément</td>\n",
       "      <td>digital preservation; web archiving; web crawl</td>\n",
       "      <td>Presentation for the 2015 International Intern...</td>\n",
       "      <td>Presentation</td>\n",
       "      <td>https://digital.library.unt.edu/ark:/67531/met...</td>\n",
       "      <td>1\\nWARC standard revision workshop\\nClément Ou...</td>\n",
       "      <td>---\\n*1. Workshop Overview**\\n**Topic:** WARC ...</td>\n",
       "    </tr>\n",
       "    <tr>\n",
       "      <th>3</th>\n",
       "      <td>https://digital.library.unt.edu/ark:/67531/met...</td>\n",
       "      <td>Co-Developing Access to the UK Web Archive</td>\n",
       "      <td>2015-04-27</td>\n",
       "      <td>Hockx-Yu, Helen</td>\n",
       "      <td>digital preservation; web archiving; development</td>\n",
       "      <td>Presentation for the 2015 International Intern...</td>\n",
       "      <td>Presentation</td>\n",
       "      <td>https://digital.library.unt.edu/ark:/67531/met...</td>\n",
       "      <td>www.bl.uk\\n1\\nCo-developing access to \\nthe UK...</td>\n",
       "      <td>---\\n*Title:** Co-developing Access to the UK ...</td>\n",
       "    </tr>\n",
       "    <tr>\n",
       "      <th>4</th>\n",
       "      <td>https://digital.library.unt.edu/ark:/67531/met...</td>\n",
       "      <td>Web Archiving for all: Building WebRecorder.io</td>\n",
       "      <td>2015-04-28</td>\n",
       "      <td>Kreymer, Ilya</td>\n",
       "      <td>digital preservation; web archiving; web crawl</td>\n",
       "      <td>Presentation for the 2015 International Intern...</td>\n",
       "      <td>Presentation</td>\n",
       "      <td>https://digital.library.unt.edu/ark:/67531/met...</td>\n",
       "      <td>WebRecorder.io\\nBuilding a new archiving servi...</td>\n",
       "      <td>*WebRecorder.io: Building a New Archiving Serv...</td>\n",
       "    </tr>\n",
       "  </tbody>\n",
       "</table>\n",
       "</div>"
      ],
      "text/plain": [
       "                                             ark_url  \\\n",
       "0  https://digital.library.unt.edu/ark:/67531/met...   \n",
       "1  https://digital.library.unt.edu/ark:/67531/met...   \n",
       "2  https://digital.library.unt.edu/ark:/67531/met...   \n",
       "3  https://digital.library.unt.edu/ark:/67531/met...   \n",
       "4  https://digital.library.unt.edu/ark:/67531/met...   \n",
       "\n",
       "                                               title        date  \\\n",
       "0  The End of Term Archive: Collaboratively Prese...  2018-11-13   \n",
       "1  Warcbase: Building a Scalable Web Archiving Pl...  2015-04-28   \n",
       "2                    WARC Standard Revision Workshop  2015-04-28   \n",
       "3         Co-Developing Access to the UK Web Archive  2015-04-27   \n",
       "4     Web Archiving for all: Building WebRecorder.io  2015-04-28   \n",
       "\n",
       "                 creator                                            subject  \\\n",
       "0  Phillips, Mark Edward  digital libraries; government documents; web a...   \n",
       "1             Lin, Jimmy  digital preservation; web archiving; historica...   \n",
       "2          Oury, Clément     digital preservation; web archiving; web crawl   \n",
       "3        Hockx-Yu, Helen   digital preservation; web archiving; development   \n",
       "4          Kreymer, Ilya     digital preservation; web archiving; web crawl   \n",
       "\n",
       "                                         description     item_type  \\\n",
       "0  Presentation the 2018 International Internet P...  Presentation   \n",
       "1  Presentation for the 2015 International Intern...  Presentation   \n",
       "2  Presentation for the 2015 International Intern...  Presentation   \n",
       "3  Presentation for the 2015 International Intern...  Presentation   \n",
       "4  Presentation for the 2015 International Intern...  Presentation   \n",
       "\n",
       "                                          source_url  \\\n",
       "0  https://digital.library.unt.edu/ark:/67531/met...   \n",
       "1  https://digital.library.unt.edu/ark:/67531/met...   \n",
       "2  https://digital.library.unt.edu/ark:/67531/met...   \n",
       "3  https://digital.library.unt.edu/ark:/67531/met...   \n",
       "4  https://digital.library.unt.edu/ark:/67531/met...   \n",
       "\n",
       "                                           full_text  \\\n",
       "0  Mark Phillips, UNT Libraries \\nAbbie Grotke, L...   \n",
       "1  Warcbase: Building a Scalable Web Archiving Pl...   \n",
       "2  1\\nWARC standard revision workshop\\nClément Ou...   \n",
       "3  www.bl.uk\\n1\\nCo-developing access to \\nthe UK...   \n",
       "4  WebRecorder.io\\nBuilding a new archiving servi...   \n",
       "\n",
       "                                        cleaned_text  \n",
       "0  ---\\n# **The End of Term Archive: Collaborativ...  \n",
       "1  ---\\n## Warcbase: Building a Scalable Web Arch...  \n",
       "2  ---\\n*1. Workshop Overview**\\n**Topic:** WARC ...  \n",
       "3  ---\\n*Title:** Co-developing Access to the UK ...  \n",
       "4  *WebRecorder.io: Building a New Archiving Serv...  "
      ]
     },
     "execution_count": 1,
     "metadata": {},
     "output_type": "execute_result"
    }
   ],
   "source": [
    "import pandas as pd\n",
    "df = pd.read_csv('/kaggle/input/iipc-v3/IIPC_Data.csv')\n",
    "df.head()"
   ]
  },
  {
   "cell_type": "code",
   "execution_count": 2,
   "metadata": {
    "execution": {
     "iopub.execute_input": "2025-08-03T23:12:21.394677Z",
     "iopub.status.busy": "2025-08-03T23:12:21.394447Z",
     "iopub.status.idle": "2025-08-03T23:12:21.407368Z",
     "shell.execute_reply": "2025-08-03T23:12:21.405141Z",
     "shell.execute_reply.started": "2025-08-03T23:12:21.394659Z"
    },
    "trusted": true
   },
   "outputs": [],
   "source": [
    "# Drop rows with null cleaned_text and convert to string\n",
    "df = df[df['cleaned_text'].notnull()].copy()\n",
    "df['cleaned_text'] = df['cleaned_text'].astype(str)"
   ]
  },
  {
   "cell_type": "code",
   "execution_count": 3,
   "metadata": {
    "execution": {
     "iopub.execute_input": "2025-08-03T23:12:21.408409Z",
     "iopub.status.busy": "2025-08-03T23:12:21.408081Z",
     "iopub.status.idle": "2025-08-03T23:12:33.616705Z",
     "shell.execute_reply": "2025-08-03T23:12:33.616142Z",
     "shell.execute_reply.started": "2025-08-03T23:12:21.408389Z"
    },
    "trusted": true
   },
   "outputs": [
    {
     "data": {
      "application/vnd.jupyter.widget-view+json": {
       "model_id": "4488bf23cb37410dafc4528d8f294d6f",
       "version_major": 2,
       "version_minor": 0
      },
      "text/plain": [
       "tokenizer_config.json:   0%|          | 0.00/366 [00:00<?, ?B/s]"
      ]
     },
     "metadata": {},
     "output_type": "display_data"
    },
    {
     "data": {
      "application/vnd.jupyter.widget-view+json": {
       "model_id": "6a0dea9f068645fda8d70018ce901ae2",
       "version_major": 2,
       "version_minor": 0
      },
      "text/plain": [
       "vocab.txt: 0.00B [00:00, ?B/s]"
      ]
     },
     "metadata": {},
     "output_type": "display_data"
    },
    {
     "data": {
      "application/vnd.jupyter.widget-view+json": {
       "model_id": "ab0547b55d8b4a40a4b8c954b95ed616",
       "version_major": 2,
       "version_minor": 0
      },
      "text/plain": [
       "tokenizer.json: 0.00B [00:00, ?B/s]"
      ]
     },
     "metadata": {},
     "output_type": "display_data"
    },
    {
     "data": {
      "application/vnd.jupyter.widget-view+json": {
       "model_id": "171717de7b604fd2a362ffa6d09a14cf",
       "version_major": 2,
       "version_minor": 0
      },
      "text/plain": [
       "special_tokens_map.json:   0%|          | 0.00/125 [00:00<?, ?B/s]"
      ]
     },
     "metadata": {},
     "output_type": "display_data"
    },
    {
     "name": "stderr",
     "output_type": "stream",
     "text": [
      "Token chunking:   0%|          | 0/575 [00:00<?, ?it/s]Token indices sequence length is longer than the specified maximum sequence length for this model (2173 > 512). Running this sequence through the model will result in indexing errors\n",
      "Token chunking: 100%|██████████| 575/575 [00:03<00:00, 182.89it/s]\n"
     ]
    }
   ],
   "source": [
    "from tqdm import tqdm\n",
    "from transformers import AutoTokenizer\n",
    "\n",
    "# Load tokenizer\n",
    "tokenizer = AutoTokenizer.from_pretrained(\"BAAI/bge-base-en-v1.5\")\n",
    "\n",
    "# Ensure cleaned_text column has valid strings\n",
    "df = df[df['cleaned_text'].notnull()].copy()\n",
    "df['cleaned_text'] = df['cleaned_text'].astype(str)\n",
    "\n",
    "# Chunk settings\n",
    "CHUNK_SIZE = 450\n",
    "OVERLAP = 50\n",
    "\n",
    "def chunk_by_tokens(text, tokenizer, chunk_size=CHUNK_SIZE, overlap=OVERLAP):\n",
    "    tokens = tokenizer.encode(text, add_special_tokens=False)\n",
    "    chunks = []\n",
    "    start = 0\n",
    "    while start < len(tokens):\n",
    "        end = start + chunk_size\n",
    "        chunk_tokens = tokens[start:end]\n",
    "        chunk_text = tokenizer.decode(chunk_tokens, skip_special_tokens=True)\n",
    "        chunks.append(chunk_text)\n",
    "        start += chunk_size - overlap\n",
    "    return chunks\n",
    "\n",
    "# Chunk each row's cleaned_text\n",
    "chunked_rows = []\n",
    "\n",
    "for _, row in tqdm(df.iterrows(), total=len(df), desc=\"Token chunking\"):\n",
    "    text_chunks = chunk_by_tokens(row['cleaned_text'], tokenizer)\n",
    "    for i, chunk in enumerate(text_chunks):\n",
    "        new_row = row.to_dict()\n",
    "        new_row['cleaned_text'] = chunk\n",
    "        new_row['chunk_id'] = i\n",
    "        chunked_rows.append(new_row)\n",
    "\n",
    "# Final DataFrame\n",
    "df = pd.DataFrame(chunked_rows)\n"
   ]
  },
  {
   "cell_type": "code",
   "execution_count": 4,
   "metadata": {
    "execution": {
     "iopub.execute_input": "2025-08-03T23:12:33.617878Z",
     "iopub.status.busy": "2025-08-03T23:12:33.617509Z",
     "iopub.status.idle": "2025-08-03T23:12:33.628825Z",
     "shell.execute_reply": "2025-08-03T23:12:33.628129Z",
     "shell.execute_reply.started": "2025-08-03T23:12:33.617858Z"
    },
    "trusted": true
   },
   "outputs": [
    {
     "data": {
      "text/html": [
       "<div>\n",
       "<style scoped>\n",
       "    .dataframe tbody tr th:only-of-type {\n",
       "        vertical-align: middle;\n",
       "    }\n",
       "\n",
       "    .dataframe tbody tr th {\n",
       "        vertical-align: top;\n",
       "    }\n",
       "\n",
       "    .dataframe thead th {\n",
       "        text-align: right;\n",
       "    }\n",
       "</style>\n",
       "<table border=\"1\" class=\"dataframe\">\n",
       "  <thead>\n",
       "    <tr style=\"text-align: right;\">\n",
       "      <th></th>\n",
       "      <th>ark_url</th>\n",
       "      <th>title</th>\n",
       "      <th>date</th>\n",
       "      <th>creator</th>\n",
       "      <th>subject</th>\n",
       "      <th>description</th>\n",
       "      <th>item_type</th>\n",
       "      <th>source_url</th>\n",
       "      <th>full_text</th>\n",
       "      <th>cleaned_text</th>\n",
       "      <th>chunk_id</th>\n",
       "    </tr>\n",
       "  </thead>\n",
       "  <tbody>\n",
       "    <tr>\n",
       "      <th>0</th>\n",
       "      <td>https://digital.library.unt.edu/ark:/67531/met...</td>\n",
       "      <td>The End of Term Archive: Collaboratively Prese...</td>\n",
       "      <td>2018-11-13</td>\n",
       "      <td>Phillips, Mark Edward</td>\n",
       "      <td>digital libraries; government documents; web a...</td>\n",
       "      <td>Presentation the 2018 International Internet P...</td>\n",
       "      <td>Presentation</td>\n",
       "      <td>https://digital.library.unt.edu/ark:/67531/met...</td>\n",
       "      <td>Mark Phillips, UNT Libraries \\nAbbie Grotke, L...</td>\n",
       "      <td>- - - # * * the end of term archive : collabor...</td>\n",
       "      <td>0</td>\n",
       "    </tr>\n",
       "    <tr>\n",
       "      <th>1</th>\n",
       "      <td>https://digital.library.unt.edu/ark:/67531/met...</td>\n",
       "      <td>The End of Term Archive: Collaboratively Prese...</td>\n",
       "      <td>2018-11-13</td>\n",
       "      <td>Phillips, Mark Edward</td>\n",
       "      <td>digital libraries; government documents; web a...</td>\n",
       "      <td>Presentation the 2018 International Internet P...</td>\n",
       "      <td>Presentation</td>\n",
       "      <td>https://digital.library.unt.edu/ark:/67531/met...</td>\n",
       "      <td>Mark Phillips, UNT Libraries \\nAbbie Grotke, L...</td>\n",
       "      <td>, and others utilize tools like archive - it. ...</td>\n",
       "      <td>1</td>\n",
       "    </tr>\n",
       "    <tr>\n",
       "      <th>2</th>\n",
       "      <td>https://digital.library.unt.edu/ark:/67531/met...</td>\n",
       "      <td>The End of Term Archive: Collaboratively Prese...</td>\n",
       "      <td>2018-11-13</td>\n",
       "      <td>Phillips, Mark Edward</td>\n",
       "      <td>digital libraries; government documents; web a...</td>\n",
       "      <td>Presentation the 2018 International Internet P...</td>\n",
       "      <td>Presentation</td>\n",
       "      <td>https://digital.library.unt.edu/ark:/67531/met...</td>\n",
       "      <td>Mark Phillips, UNT Libraries \\nAbbie Grotke, L...</td>\n",
       "      <td>- - # # * * 5. funding and development * * * *...</td>\n",
       "      <td>2</td>\n",
       "    </tr>\n",
       "    <tr>\n",
       "      <th>3</th>\n",
       "      <td>https://digital.library.unt.edu/ark:/67531/met...</td>\n",
       "      <td>The End of Term Archive: Collaboratively Prese...</td>\n",
       "      <td>2018-11-13</td>\n",
       "      <td>Phillips, Mark Edward</td>\n",
       "      <td>digital libraries; government documents; web a...</td>\n",
       "      <td>Presentation the 2018 International Internet P...</td>\n",
       "      <td>Presentation</td>\n",
       "      <td>https://digital.library.unt.edu/ark:/67531/met...</td>\n",
       "      <td>Mark Phillips, UNT Libraries \\nAbbie Grotke, L...</td>\n",
       "      <td>cocciolo _ peet _ eot. pdf ] ( http : / / www....</td>\n",
       "      <td>3</td>\n",
       "    </tr>\n",
       "    <tr>\n",
       "      <th>4</th>\n",
       "      <td>https://digital.library.unt.edu/ark:/67531/met...</td>\n",
       "      <td>The End of Term Archive: Collaboratively Prese...</td>\n",
       "      <td>2018-11-13</td>\n",
       "      <td>Phillips, Mark Edward</td>\n",
       "      <td>digital libraries; government documents; web a...</td>\n",
       "      <td>Presentation the 2018 International Internet P...</td>\n",
       "      <td>Presentation</td>\n",
       "      <td>https://digital.library.unt.edu/ark:/67531/met...</td>\n",
       "      <td>Mark Phillips, UNT Libraries \\nAbbie Grotke, L...</td>\n",
       "      <td>change by percentage was observed. `. gov ` an...</td>\n",
       "      <td>4</td>\n",
       "    </tr>\n",
       "  </tbody>\n",
       "</table>\n",
       "</div>"
      ],
      "text/plain": [
       "                                             ark_url  \\\n",
       "0  https://digital.library.unt.edu/ark:/67531/met...   \n",
       "1  https://digital.library.unt.edu/ark:/67531/met...   \n",
       "2  https://digital.library.unt.edu/ark:/67531/met...   \n",
       "3  https://digital.library.unt.edu/ark:/67531/met...   \n",
       "4  https://digital.library.unt.edu/ark:/67531/met...   \n",
       "\n",
       "                                               title        date  \\\n",
       "0  The End of Term Archive: Collaboratively Prese...  2018-11-13   \n",
       "1  The End of Term Archive: Collaboratively Prese...  2018-11-13   \n",
       "2  The End of Term Archive: Collaboratively Prese...  2018-11-13   \n",
       "3  The End of Term Archive: Collaboratively Prese...  2018-11-13   \n",
       "4  The End of Term Archive: Collaboratively Prese...  2018-11-13   \n",
       "\n",
       "                 creator                                            subject  \\\n",
       "0  Phillips, Mark Edward  digital libraries; government documents; web a...   \n",
       "1  Phillips, Mark Edward  digital libraries; government documents; web a...   \n",
       "2  Phillips, Mark Edward  digital libraries; government documents; web a...   \n",
       "3  Phillips, Mark Edward  digital libraries; government documents; web a...   \n",
       "4  Phillips, Mark Edward  digital libraries; government documents; web a...   \n",
       "\n",
       "                                         description     item_type  \\\n",
       "0  Presentation the 2018 International Internet P...  Presentation   \n",
       "1  Presentation the 2018 International Internet P...  Presentation   \n",
       "2  Presentation the 2018 International Internet P...  Presentation   \n",
       "3  Presentation the 2018 International Internet P...  Presentation   \n",
       "4  Presentation the 2018 International Internet P...  Presentation   \n",
       "\n",
       "                                          source_url  \\\n",
       "0  https://digital.library.unt.edu/ark:/67531/met...   \n",
       "1  https://digital.library.unt.edu/ark:/67531/met...   \n",
       "2  https://digital.library.unt.edu/ark:/67531/met...   \n",
       "3  https://digital.library.unt.edu/ark:/67531/met...   \n",
       "4  https://digital.library.unt.edu/ark:/67531/met...   \n",
       "\n",
       "                                           full_text  \\\n",
       "0  Mark Phillips, UNT Libraries \\nAbbie Grotke, L...   \n",
       "1  Mark Phillips, UNT Libraries \\nAbbie Grotke, L...   \n",
       "2  Mark Phillips, UNT Libraries \\nAbbie Grotke, L...   \n",
       "3  Mark Phillips, UNT Libraries \\nAbbie Grotke, L...   \n",
       "4  Mark Phillips, UNT Libraries \\nAbbie Grotke, L...   \n",
       "\n",
       "                                        cleaned_text  chunk_id  \n",
       "0  - - - # * * the end of term archive : collabor...         0  \n",
       "1  , and others utilize tools like archive - it. ...         1  \n",
       "2  - - # # * * 5. funding and development * * * *...         2  \n",
       "3  cocciolo _ peet _ eot. pdf ] ( http : / / www....         3  \n",
       "4  change by percentage was observed. `. gov ` an...         4  "
      ]
     },
     "execution_count": 4,
     "metadata": {},
     "output_type": "execute_result"
    }
   ],
   "source": [
    "df.head()"
   ]
  },
  {
   "cell_type": "code",
   "execution_count": 5,
   "metadata": {
    "execution": {
     "iopub.execute_input": "2025-08-03T23:12:33.629680Z",
     "iopub.status.busy": "2025-08-03T23:12:33.629477Z",
     "iopub.status.idle": "2025-08-03T23:14:03.976288Z",
     "shell.execute_reply": "2025-08-03T23:14:03.975541Z",
     "shell.execute_reply.started": "2025-08-03T23:12:33.629664Z"
    },
    "trusted": true
   },
   "outputs": [
    {
     "name": "stderr",
     "output_type": "stream",
     "text": [
      "2025-08-03 23:12:39.398628: E external/local_xla/xla/stream_executor/cuda/cuda_fft.cc:477] Unable to register cuFFT factory: Attempting to register factory for plugin cuFFT when one has already been registered\n",
      "WARNING: All log messages before absl::InitializeLog() is called are written to STDERR\n",
      "E0000 00:00:1754262759.591078      36 cuda_dnn.cc:8310] Unable to register cuDNN factory: Attempting to register factory for plugin cuDNN when one has already been registered\n",
      "E0000 00:00:1754262759.643126      36 cuda_blas.cc:1418] Unable to register cuBLAS factory: Attempting to register factory for plugin cuBLAS when one has already been registered\n"
     ]
    },
    {
     "data": {
      "application/vnd.jupyter.widget-view+json": {
       "model_id": "3f8256fca6d34ac39aa8a753e5f631cc",
       "version_major": 2,
       "version_minor": 0
      },
      "text/plain": [
       "modules.json:   0%|          | 0.00/349 [00:00<?, ?B/s]"
      ]
     },
     "metadata": {},
     "output_type": "display_data"
    },
    {
     "data": {
      "application/vnd.jupyter.widget-view+json": {
       "model_id": "af16411aeaff462fb323641c945d8771",
       "version_major": 2,
       "version_minor": 0
      },
      "text/plain": [
       "config_sentence_transformers.json:   0%|          | 0.00/124 [00:00<?, ?B/s]"
      ]
     },
     "metadata": {},
     "output_type": "display_data"
    },
    {
     "data": {
      "application/vnd.jupyter.widget-view+json": {
       "model_id": "f74c827c56e7484ebc4457f42e318512",
       "version_major": 2,
       "version_minor": 0
      },
      "text/plain": [
       "README.md: 0.00B [00:00, ?B/s]"
      ]
     },
     "metadata": {},
     "output_type": "display_data"
    },
    {
     "data": {
      "application/vnd.jupyter.widget-view+json": {
       "model_id": "369b9de71bf540a4b0ba0422c08600e1",
       "version_major": 2,
       "version_minor": 0
      },
      "text/plain": [
       "sentence_bert_config.json:   0%|          | 0.00/52.0 [00:00<?, ?B/s]"
      ]
     },
     "metadata": {},
     "output_type": "display_data"
    },
    {
     "data": {
      "application/vnd.jupyter.widget-view+json": {
       "model_id": "e936158bd89f45dc9fe7ca3e350189b4",
       "version_major": 2,
       "version_minor": 0
      },
      "text/plain": [
       "config.json:   0%|          | 0.00/777 [00:00<?, ?B/s]"
      ]
     },
     "metadata": {},
     "output_type": "display_data"
    },
    {
     "data": {
      "application/vnd.jupyter.widget-view+json": {
       "model_id": "4590bf3ae5c240e5aa4bbca836d53bb3",
       "version_major": 2,
       "version_minor": 0
      },
      "text/plain": [
       "model.safetensors:   0%|          | 0.00/438M [00:00<?, ?B/s]"
      ]
     },
     "metadata": {},
     "output_type": "display_data"
    },
    {
     "data": {
      "application/vnd.jupyter.widget-view+json": {
       "model_id": "e91793c7cafc438e80f8b50419a69eff",
       "version_major": 2,
       "version_minor": 0
      },
      "text/plain": [
       "config.json:   0%|          | 0.00/190 [00:00<?, ?B/s]"
      ]
     },
     "metadata": {},
     "output_type": "display_data"
    },
    {
     "data": {
      "application/vnd.jupyter.widget-view+json": {
       "model_id": "0cd22c21963d4ca7a86f459437877b82",
       "version_major": 2,
       "version_minor": 0
      },
      "text/plain": [
       "Batches:   0%|          | 0/74 [00:00<?, ?it/s]"
      ]
     },
     "metadata": {},
     "output_type": "display_data"
    },
    {
     "name": "stdout",
     "output_type": "stream",
     "text": [
      "✅ Embeddings and all metadata saved successfully.\n"
     ]
    }
   ],
   "source": [
    "from sentence_transformers import SentenceTransformer\n",
    "import pandas as pd\n",
    "import pickle\n",
    "\n",
    "# Load the embedding model\n",
    "model = SentenceTransformer('BAAI/bge-base-en-v1.5')\n",
    "\n",
    "\n",
    "df['combined_text'] = (\n",
    "    \"Title: \" + df['title'].fillna('') + \"\\n\" +\n",
    "    \"Creator: \" + df['creator'].fillna('') + \"\\n\" +\n",
    "    \"Subject: \" + df['subject'].fillna('') + \"\\n\" +\n",
    "    \"Description: \" + df['description'].fillna('') + \"\\n\" +\n",
    "    \"Text: \" + df['cleaned_text'].fillna('') + \"\\n\" +\n",
    "    \"Item Type: \" + df['item_type'].fillna('') + \"\\n\" +\n",
    "    \"Date: \" + df['date'].fillna('') + \"\\n\" +\n",
    "    \"URL: \" + df['ark_url'].fillna('') + \"\\n\" +\n",
    "    \"Source URL: \" + df['source_url'].fillna('')\n",
    ")\n",
    "\n",
    "\n",
    "# Create embeddings for the combined text\n",
    "embeddings = model.encode(df['combined_text'].tolist(), show_progress_bar=True)\n",
    "\n",
    "with open('/kaggle/working/embeddings_v2.pkl', 'wb') as f:\n",
    "    pickle.dump({\n",
    "        'embeddings': embeddings,\n",
    "        'combined_texts': df['combined_text'].tolist()\n",
    "    }, f)\n",
    "\n",
    "\n",
    "print(\"✅ Embeddings and all metadata saved successfully.\")\n"
   ]
  },
  {
   "cell_type": "code",
   "execution_count": 6,
   "metadata": {
    "execution": {
     "iopub.execute_input": "2025-08-03T23:14:03.977343Z",
     "iopub.status.busy": "2025-08-03T23:14:03.977060Z",
     "iopub.status.idle": "2025-08-03T23:14:09.563265Z",
     "shell.execute_reply": "2025-08-03T23:14:09.562320Z",
     "shell.execute_reply.started": "2025-08-03T23:14:03.977317Z"
    },
    "trusted": true
   },
   "outputs": [
    {
     "name": "stderr",
     "output_type": "stream",
     "text": [
      "huggingface/tokenizers: The current process just got forked, after parallelism has already been used. Disabling parallelism to avoid deadlocks...\n",
      "To disable this warning, you can either:\n",
      "\t- Avoid using `tokenizers` before the fork if possible\n",
      "\t- Explicitly set the environment variable TOKENIZERS_PARALLELISM=(true | false)\n"
     ]
    },
    {
     "name": "stdout",
     "output_type": "stream",
     "text": [
      "Collecting faiss-cpu\n",
      "  Downloading faiss_cpu-1.11.0.post1-cp311-cp311-manylinux_2_27_x86_64.manylinux_2_28_x86_64.whl.metadata (5.0 kB)\n",
      "Requirement already satisfied: numpy<3.0,>=1.25.0 in /usr/local/lib/python3.11/dist-packages (from faiss-cpu) (1.26.4)\n",
      "Requirement already satisfied: packaging in /usr/local/lib/python3.11/dist-packages (from faiss-cpu) (25.0)\n",
      "Requirement already satisfied: mkl_fft in /usr/local/lib/python3.11/dist-packages (from numpy<3.0,>=1.25.0->faiss-cpu) (1.3.8)\n",
      "Requirement already satisfied: mkl_random in /usr/local/lib/python3.11/dist-packages (from numpy<3.0,>=1.25.0->faiss-cpu) (1.2.4)\n",
      "Requirement already satisfied: mkl_umath in /usr/local/lib/python3.11/dist-packages (from numpy<3.0,>=1.25.0->faiss-cpu) (0.1.1)\n",
      "Requirement already satisfied: mkl in /usr/local/lib/python3.11/dist-packages (from numpy<3.0,>=1.25.0->faiss-cpu) (2025.2.0)\n",
      "Requirement already satisfied: tbb4py in /usr/local/lib/python3.11/dist-packages (from numpy<3.0,>=1.25.0->faiss-cpu) (2022.2.0)\n",
      "Requirement already satisfied: mkl-service in /usr/local/lib/python3.11/dist-packages (from numpy<3.0,>=1.25.0->faiss-cpu) (2.4.1)\n",
      "Requirement already satisfied: intel-openmp<2026,>=2024 in /usr/local/lib/python3.11/dist-packages (from mkl->numpy<3.0,>=1.25.0->faiss-cpu) (2024.2.0)\n",
      "Requirement already satisfied: tbb==2022.* in /usr/local/lib/python3.11/dist-packages (from mkl->numpy<3.0,>=1.25.0->faiss-cpu) (2022.2.0)\n",
      "Requirement already satisfied: tcmlib==1.* in /usr/local/lib/python3.11/dist-packages (from tbb==2022.*->mkl->numpy<3.0,>=1.25.0->faiss-cpu) (1.4.0)\n",
      "Requirement already satisfied: intel-cmplr-lib-rt in /usr/local/lib/python3.11/dist-packages (from mkl_umath->numpy<3.0,>=1.25.0->faiss-cpu) (2024.2.0)\n",
      "Requirement already satisfied: intel-cmplr-lib-ur==2024.2.0 in /usr/local/lib/python3.11/dist-packages (from intel-openmp<2026,>=2024->mkl->numpy<3.0,>=1.25.0->faiss-cpu) (2024.2.0)\n",
      "Downloading faiss_cpu-1.11.0.post1-cp311-cp311-manylinux_2_27_x86_64.manylinux_2_28_x86_64.whl (31.3 MB)\n",
      "\u001b[2K   \u001b[90m━━━━━━━━━━━━━━━━━━━━━━━━━━━━━━━━━━━━━━━━\u001b[0m \u001b[32m31.3/31.3 MB\u001b[0m \u001b[31m54.3 MB/s\u001b[0m eta \u001b[36m0:00:00\u001b[0m:00:01\u001b[0m00:01\u001b[0m\n",
      "\u001b[?25hInstalling collected packages: faiss-cpu\n",
      "Successfully installed faiss-cpu-1.11.0.post1\n",
      "Note: you may need to restart the kernel to use updated packages.\n"
     ]
    }
   ],
   "source": [
    "pip install faiss-cpu"
   ]
  },
  {
   "cell_type": "code",
   "execution_count": 7,
   "metadata": {
    "execution": {
     "iopub.execute_input": "2025-08-03T23:14:09.566115Z",
     "iopub.status.busy": "2025-08-03T23:14:09.565874Z",
     "iopub.status.idle": "2025-08-03T23:14:09.628679Z",
     "shell.execute_reply": "2025-08-03T23:14:09.627917Z",
     "shell.execute_reply.started": "2025-08-03T23:14:09.566093Z"
    },
    "trusted": true
   },
   "outputs": [],
   "source": [
    "import pickle\n",
    "import numpy as np\n",
    "import faiss\n",
    "# Load pickle data\n",
    "with open('/kaggle/working/embeddings_v2.pkl', 'rb') as f:\n",
    "    data = pickle.load(f)\n",
    "\n",
    "embeddings = np.array(data['embeddings']).astype('float32')\n",
    "\n",
    "# Create FAISS index\n",
    "index = faiss.IndexFlatL2(embeddings.shape[1])\n",
    "index.add(embeddings)\n"
   ]
  },
  {
   "cell_type": "code",
   "execution_count": 8,
   "metadata": {
    "execution": {
     "iopub.execute_input": "2025-08-03T23:14:09.629720Z",
     "iopub.status.busy": "2025-08-03T23:14:09.629469Z",
     "iopub.status.idle": "2025-08-03T23:14:09.634290Z",
     "shell.execute_reply": "2025-08-03T23:14:09.633505Z",
     "shell.execute_reply.started": "2025-08-03T23:14:09.629691Z"
    },
    "trusted": true
   },
   "outputs": [],
   "source": [
    "def retrieve_top_k(query, k=5):\n",
    "    query_embedding = model.encode([query])\n",
    "    distances, indices = index.search(np.array(query_embedding).astype('float32'), k)\n",
    "    results = []\n",
    "    for i in indices[0]:\n",
    "        result = {\n",
    "            'combined_text': data['combined_texts'][i]\n",
    "        }\n",
    "        results.append(result)\n",
    "    return results\n"
   ]
  },
  {
   "cell_type": "code",
   "execution_count": null,
   "metadata": {
    "execution": {
     "iopub.execute_input": "2025-08-03T23:14:09.635275Z",
     "iopub.status.busy": "2025-08-03T23:14:09.635035Z",
     "iopub.status.idle": "2025-08-03T23:14:10.412131Z",
     "shell.execute_reply": "2025-08-03T23:14:10.411511Z",
     "shell.execute_reply.started": "2025-08-03T23:14:09.635259Z"
    },
    "trusted": true
   },
   "outputs": [],
   "source": [
    "import google.generativeai as genai\n",
    "\n",
    "# Configure your Gemini API key\n",
    "genai.configure(api_key=\"add_your_api_here\")\n",
    "\n",
    "MODEL_NAME = \"gemini-2.5-flash-lite\"  # Gemini 2.5 Flash-Lite\n",
    "\n",
    "AiModel = genai.GenerativeModel(MODEL_NAME)\n",
    "\n",
    "def generate_response(query, context_docs):\n",
    "    context_parts = []\n",
    "    for doc in context_docs:\n",
    "        context_parts.append(\n",
    "            f\"{doc['combined_text']}\\n----\"\n",
    "        )\n",
    "    context = \"\\n\".join(context_parts)\\\n",
    "\n",
    "    prompt = f\"\"\"You are an expert assistant specialized in web archiving, using ONLY the provided IIPC conference materials below.\n",
    "\n",
    "Each document includes metadata fields like Title, Creator, Date, Subject, and Content, clearly labeled.\n",
    "\n",
    "Answer the user's questions strictly based on this context about web archiving topics discussed in the IIPC conferences.\n",
    "\n",
    "Format your answer in clear, simple language without using markdown symbols such as asterisks, underscores, or other formatting characters.\n",
    "\n",
    "Use plain text bullet points or paragraphs to make the answer easy to read and understand.\n",
    "\n",
    "If the question asks about a specific year or topic, base your answers only on the relevant information found in the context.\n",
    "\n",
    "Do NOT make any assumptions or use knowledge beyond what is in the provided documents.\n",
    "\n",
    "If the answer is not found in the context, respond with: \"I don't know.\"\n",
    "\n",
    "Context:\n",
    "{context}\n",
    "\n",
    "Question: {query}\n",
    "Answer:\"\"\"\n",
    "\n",
    "    response = AiModel.generate_content(prompt)\n",
    "    return response.text\n",
    "\n"
   ]
  },
  {
   "cell_type": "code",
   "execution_count": 10,
   "metadata": {
    "execution": {
     "iopub.execute_input": "2025-08-03T23:14:10.413090Z",
     "iopub.status.busy": "2025-08-03T23:14:10.412801Z",
     "iopub.status.idle": "2025-08-03T23:14:11.418559Z",
     "shell.execute_reply": "2025-08-03T23:14:11.417774Z",
     "shell.execute_reply.started": "2025-08-03T23:14:10.413065Z"
    },
    "trusted": true
   },
   "outputs": [
    {
     "data": {
      "application/vnd.jupyter.widget-view+json": {
       "model_id": "275db39902f14edba4eae1577561a4fb",
       "version_major": 2,
       "version_minor": 0
      },
      "text/plain": [
       "Batches:   0%|          | 0/1 [00:00<?, ?it/s]"
      ]
     },
     "metadata": {},
     "output_type": "display_data"
    },
    {
     "name": "stdout",
     "output_type": "stream",
     "text": [
      "\n",
      "🤖 Gemini Answer:\n",
      " 2025-04-10\n"
     ]
    }
   ],
   "source": [
    "query = \"title What You See No One Saw ,what is the date  of publish?\"\n",
    "results = retrieve_top_k(query)\n",
    "answer = generate_response(query, results)\n",
    "\n",
    "print(\"\\n🤖 Gemini Answer:\\n\", answer)\n"
   ]
  }
 ],
 "metadata": {
  "kaggle": {
   "accelerator": "nvidiaTeslaT4",
   "dataSources": [
    {
     "datasetId": 7943138,
     "sourceId": 12577138,
     "sourceType": "datasetVersion"
    },
    {
     "datasetId": 7999287,
     "sourceId": 12658021,
     "sourceType": "datasetVersion"
    }
   ],
   "dockerImageVersionId": 31089,
   "isGpuEnabled": true,
   "isInternetEnabled": true,
   "language": "python",
   "sourceType": "notebook"
  },
  "kernelspec": {
   "display_name": "Python 3",
   "language": "python",
   "name": "python3"
  },
  "language_info": {
   "codemirror_mode": {
    "name": "ipython",
    "version": 3
   },
   "file_extension": ".py",
   "mimetype": "text/x-python",
   "name": "python",
   "nbconvert_exporter": "python",
   "pygments_lexer": "ipython3",
   "version": "3.11.13"
  }
 },
 "nbformat": 4,
 "nbformat_minor": 4
}
