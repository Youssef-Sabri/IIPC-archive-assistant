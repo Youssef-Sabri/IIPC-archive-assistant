{
 "cells": [
  {
   "cell_type": "code",
   "execution_count": 1,
   "metadata": {
    "execution": {
     "iopub.execute_input": "2025-08-13T17:51:58.840182Z",
     "iopub.status.busy": "2025-08-13T17:51:58.839931Z",
     "iopub.status.idle": "2025-08-13T17:52:01.536539Z",
     "shell.execute_reply": "2025-08-13T17:52:01.535753Z",
     "shell.execute_reply.started": "2025-08-13T17:51:58.840157Z"
    },
    "trusted": true
   },
   "outputs": [
    {
     "data": {
      "text/html": [
       "<div>\n",
       "<style scoped>\n",
       "    .dataframe tbody tr th:only-of-type {\n",
       "        vertical-align: middle;\n",
       "    }\n",
       "\n",
       "    .dataframe tbody tr th {\n",
       "        vertical-align: top;\n",
       "    }\n",
       "\n",
       "    .dataframe thead th {\n",
       "        text-align: right;\n",
       "    }\n",
       "</style>\n",
       "<table border=\"1\" class=\"dataframe\">\n",
       "  <thead>\n",
       "    <tr style=\"text-align: right;\">\n",
       "      <th></th>\n",
       "      <th>ark_url</th>\n",
       "      <th>title</th>\n",
       "      <th>date</th>\n",
       "      <th>creator</th>\n",
       "      <th>subject</th>\n",
       "      <th>description</th>\n",
       "      <th>item_type</th>\n",
       "      <th>source_url</th>\n",
       "      <th>full_text</th>\n",
       "      <th>cleaned_text</th>\n",
       "    </tr>\n",
       "  </thead>\n",
       "  <tbody>\n",
       "    <tr>\n",
       "      <th>0</th>\n",
       "      <td>https://digital.library.unt.edu/ark:/67531/met...</td>\n",
       "      <td>The End of Term Archive: Collaboratively Prese...</td>\n",
       "      <td>2018-11-13</td>\n",
       "      <td>Phillips, Mark Edward</td>\n",
       "      <td>digital libraries; government documents; web a...</td>\n",
       "      <td>Presentation the 2018 International Internet P...</td>\n",
       "      <td>Presentation</td>\n",
       "      <td>https://digital.library.unt.edu/ark:/67531/met...</td>\n",
       "      <td>Mark Phillips, UNT Libraries \\nAbbie Grotke, L...</td>\n",
       "      <td>---\\n# **The End of Term Archive: Collaborativ...</td>\n",
       "    </tr>\n",
       "    <tr>\n",
       "      <th>1</th>\n",
       "      <td>https://digital.library.unt.edu/ark:/67531/met...</td>\n",
       "      <td>Warcbase: Building a Scalable Web Archiving Pl...</td>\n",
       "      <td>2015-04-28</td>\n",
       "      <td>Lin, Jimmy</td>\n",
       "      <td>digital preservation; web archiving; historica...</td>\n",
       "      <td>Presentation for the 2015 International Intern...</td>\n",
       "      <td>Presentation</td>\n",
       "      <td>https://digital.library.unt.edu/ark:/67531/met...</td>\n",
       "      <td>Warcbase: Building a Scalable Web Archiving Pl...</td>\n",
       "      <td>---\\n## Warcbase: Building a Scalable Web Arch...</td>\n",
       "    </tr>\n",
       "    <tr>\n",
       "      <th>2</th>\n",
       "      <td>https://digital.library.unt.edu/ark:/67531/met...</td>\n",
       "      <td>WARC Standard Revision Workshop</td>\n",
       "      <td>2015-04-28</td>\n",
       "      <td>Oury, Clément</td>\n",
       "      <td>digital preservation; web archiving; web crawl</td>\n",
       "      <td>Presentation for the 2015 International Intern...</td>\n",
       "      <td>Presentation</td>\n",
       "      <td>https://digital.library.unt.edu/ark:/67531/met...</td>\n",
       "      <td>1\\nWARC standard revision workshop\\nClément Ou...</td>\n",
       "      <td>---\\n*1. Workshop Overview**\\n**Topic:** WARC ...</td>\n",
       "    </tr>\n",
       "    <tr>\n",
       "      <th>3</th>\n",
       "      <td>https://digital.library.unt.edu/ark:/67531/met...</td>\n",
       "      <td>Co-Developing Access to the UK Web Archive</td>\n",
       "      <td>2015-04-27</td>\n",
       "      <td>Hockx-Yu, Helen</td>\n",
       "      <td>digital preservation; web archiving; development</td>\n",
       "      <td>Presentation for the 2015 International Intern...</td>\n",
       "      <td>Presentation</td>\n",
       "      <td>https://digital.library.unt.edu/ark:/67531/met...</td>\n",
       "      <td>www.bl.uk\\n1\\nCo-developing access to \\nthe UK...</td>\n",
       "      <td>---\\n*Title:** Co-developing Access to the UK ...</td>\n",
       "    </tr>\n",
       "    <tr>\n",
       "      <th>4</th>\n",
       "      <td>https://digital.library.unt.edu/ark:/67531/met...</td>\n",
       "      <td>Web Archiving for all: Building WebRecorder.io</td>\n",
       "      <td>2015-04-28</td>\n",
       "      <td>Kreymer, Ilya</td>\n",
       "      <td>digital preservation; web archiving; web crawl</td>\n",
       "      <td>Presentation for the 2015 International Intern...</td>\n",
       "      <td>Presentation</td>\n",
       "      <td>https://digital.library.unt.edu/ark:/67531/met...</td>\n",
       "      <td>WebRecorder.io\\nBuilding a new archiving servi...</td>\n",
       "      <td>*WebRecorder.io: Building a New Archiving Serv...</td>\n",
       "    </tr>\n",
       "  </tbody>\n",
       "</table>\n",
       "</div>"
      ],
      "text/plain": [
       "                                             ark_url  \\\n",
       "0  https://digital.library.unt.edu/ark:/67531/met...   \n",
       "1  https://digital.library.unt.edu/ark:/67531/met...   \n",
       "2  https://digital.library.unt.edu/ark:/67531/met...   \n",
       "3  https://digital.library.unt.edu/ark:/67531/met...   \n",
       "4  https://digital.library.unt.edu/ark:/67531/met...   \n",
       "\n",
       "                                               title        date  \\\n",
       "0  The End of Term Archive: Collaboratively Prese...  2018-11-13   \n",
       "1  Warcbase: Building a Scalable Web Archiving Pl...  2015-04-28   \n",
       "2                    WARC Standard Revision Workshop  2015-04-28   \n",
       "3         Co-Developing Access to the UK Web Archive  2015-04-27   \n",
       "4     Web Archiving for all: Building WebRecorder.io  2015-04-28   \n",
       "\n",
       "                 creator                                            subject  \\\n",
       "0  Phillips, Mark Edward  digital libraries; government documents; web a...   \n",
       "1             Lin, Jimmy  digital preservation; web archiving; historica...   \n",
       "2          Oury, Clément     digital preservation; web archiving; web crawl   \n",
       "3        Hockx-Yu, Helen   digital preservation; web archiving; development   \n",
       "4          Kreymer, Ilya     digital preservation; web archiving; web crawl   \n",
       "\n",
       "                                         description     item_type  \\\n",
       "0  Presentation the 2018 International Internet P...  Presentation   \n",
       "1  Presentation for the 2015 International Intern...  Presentation   \n",
       "2  Presentation for the 2015 International Intern...  Presentation   \n",
       "3  Presentation for the 2015 International Intern...  Presentation   \n",
       "4  Presentation for the 2015 International Intern...  Presentation   \n",
       "\n",
       "                                          source_url  \\\n",
       "0  https://digital.library.unt.edu/ark:/67531/met...   \n",
       "1  https://digital.library.unt.edu/ark:/67531/met...   \n",
       "2  https://digital.library.unt.edu/ark:/67531/met...   \n",
       "3  https://digital.library.unt.edu/ark:/67531/met...   \n",
       "4  https://digital.library.unt.edu/ark:/67531/met...   \n",
       "\n",
       "                                           full_text  \\\n",
       "0  Mark Phillips, UNT Libraries \\nAbbie Grotke, L...   \n",
       "1  Warcbase: Building a Scalable Web Archiving Pl...   \n",
       "2  1\\nWARC standard revision workshop\\nClément Ou...   \n",
       "3  www.bl.uk\\n1\\nCo-developing access to \\nthe UK...   \n",
       "4  WebRecorder.io\\nBuilding a new archiving servi...   \n",
       "\n",
       "                                        cleaned_text  \n",
       "0  ---\\n# **The End of Term Archive: Collaborativ...  \n",
       "1  ---\\n## Warcbase: Building a Scalable Web Arch...  \n",
       "2  ---\\n*1. Workshop Overview**\\n**Topic:** WARC ...  \n",
       "3  ---\\n*Title:** Co-developing Access to the UK ...  \n",
       "4  *WebRecorder.io: Building a New Archiving Serv...  "
      ]
     },
     "execution_count": 1,
     "metadata": {},
     "output_type": "execute_result"
    }
   ],
   "source": [
    "import pandas as pd\n",
    "df = pd.read_csv('/kaggle/input/iipc-v3/IIPC_Data.csv')\n",
    "df.head()\n"
   ]
  },
  {
   "cell_type": "code",
   "execution_count": 2,
   "metadata": {
    "execution": {
     "iopub.execute_input": "2025-08-13T17:52:03.773403Z",
     "iopub.status.busy": "2025-08-13T17:52:03.772720Z",
     "iopub.status.idle": "2025-08-13T17:52:03.785584Z",
     "shell.execute_reply": "2025-08-13T17:52:03.784624Z",
     "shell.execute_reply.started": "2025-08-13T17:52:03.773368Z"
    },
    "trusted": true
   },
   "outputs": [],
   "source": [
    "# Drop rows with null cleaned_text and convert to string\n",
    "df = df[df['cleaned_text'].notnull()].copy()\n",
    "df['cleaned_text'] = df['cleaned_text'].astype(str)"
   ]
  },
  {
   "cell_type": "code",
   "execution_count": null,
   "metadata": {
    "execution": {
     "iopub.execute_input": "2025-08-13T17:52:05.042122Z",
     "iopub.status.busy": "2025-08-13T17:52:05.041842Z",
     "iopub.status.idle": "2025-08-13T17:52:19.423824Z",
     "shell.execute_reply": "2025-08-13T17:52:19.423003Z",
     "shell.execute_reply.started": "2025-08-13T17:52:05.042100Z"
    },
    "trusted": true
   },
   "outputs": [
    {
     "data": {
      "application/vnd.jupyter.widget-view+json": {
       "model_id": "7d60e87bfd514c36b8e565d771e41436",
       "version_major": 2,
       "version_minor": 0
      },
      "text/plain": [
       "tokenizer_config.json:   0%|          | 0.00/366 [00:00<?, ?B/s]"
      ]
     },
     "metadata": {},
     "output_type": "display_data"
    },
    {
     "data": {
      "application/vnd.jupyter.widget-view+json": {
       "model_id": "6b4eb4e9646645b8be2b75d993ffb5dc",
       "version_major": 2,
       "version_minor": 0
      },
      "text/plain": [
       "vocab.txt: 0.00B [00:00, ?B/s]"
      ]
     },
     "metadata": {},
     "output_type": "display_data"
    },
    {
     "data": {
      "application/vnd.jupyter.widget-view+json": {
       "model_id": "861ac9960c19487f9bfd2d8691b42fef",
       "version_major": 2,
       "version_minor": 0
      },
      "text/plain": [
       "tokenizer.json: 0.00B [00:00, ?B/s]"
      ]
     },
     "metadata": {},
     "output_type": "display_data"
    },
    {
     "data": {
      "application/vnd.jupyter.widget-view+json": {
       "model_id": "f7125d7c6b854247a08fd63f70127f85",
       "version_major": 2,
       "version_minor": 0
      },
      "text/plain": [
       "special_tokens_map.json:   0%|          | 0.00/125 [00:00<?, ?B/s]"
      ]
     },
     "metadata": {},
     "output_type": "display_data"
    },
    {
     "name": "stderr",
     "output_type": "stream",
     "text": [
      "Token chunking:   0%|          | 0/575 [00:00<?, ?it/s]Token indices sequence length is longer than the specified maximum sequence length for this model (2173 > 512). Running this sequence through the model will result in indexing errors\n",
      "Token chunking: 100%|██████████| 575/575 [00:03<00:00, 153.65it/s]\n"
     ]
    }
   ],
   "source": [
    "from tqdm import tqdm\n",
    "from transformers import AutoTokenizer\n",
    "\n",
    "# Load tokenizer\n",
    "tokenizer = AutoTokenizer.from_pretrained(\"BAAI/bge-base-en-v1.5\")\n",
    "\n",
    "# Ensure cleaned_text column has valid strings\n",
    "df = df[df['cleaned_text'].notnull()].copy()\n",
    "df['cleaned_text'] = df['cleaned_text'].astype(str)\n",
    "\n",
    "# --- Make sure we have a document ID column ---\n",
    "if 'doc_id' not in df.columns:\n",
    "    df['doc_id'] = df.index.astype(str)\n",
    "\n",
    "# Chunk settings\n",
    "CHUNK_SIZE = 450\n",
    "OVERLAP = 50\n",
    "\n",
    "def chunk_by_tokens(text, tokenizer, chunk_size=CHUNK_SIZE, overlap=OVERLAP):\n",
    "    tokens = tokenizer.encode(text, add_special_tokens=False)\n",
    "    chunks = []\n",
    "    start = 0\n",
    "    while start < len(tokens):\n",
    "        end = start + chunk_size\n",
    "        chunk_tokens = tokens[start:end]\n",
    "        chunk_text = tokenizer.decode(chunk_tokens, skip_special_tokens=True)\n",
    "        chunks.append(chunk_text)\n",
    "        start += chunk_size - overlap\n",
    "    return chunks\n",
    "\n",
    "# Chunk each row's cleaned_text\n",
    "chunked_rows = []\n",
    "\n",
    "for _, row in tqdm(df.iterrows(), total=len(df), desc=\"Token chunking\"):\n",
    "    text_chunks = chunk_by_tokens(row['cleaned_text'], tokenizer)\n",
    "    for i, chunk in enumerate(text_chunks):\n",
    "        new_row = row.to_dict()\n",
    "        new_row['cleaned_text'] = chunk\n",
    "        new_row['chunk_id'] = i          # position within the document\n",
    "        chunked_rows.append(new_row)\n",
    "\n",
    "# Final DataFrame: contains doc_id, chunk_id, cleaned_text\n",
    "df = pd.DataFrame(chunked_rows).reset_index(drop=True)\n"
   ]
  },
  {
   "cell_type": "code",
   "execution_count": 4,
   "metadata": {
    "execution": {
     "iopub.execute_input": "2025-08-13T17:52:19.425682Z",
     "iopub.status.busy": "2025-08-13T17:52:19.425273Z",
     "iopub.status.idle": "2025-08-13T17:52:19.440471Z",
     "shell.execute_reply": "2025-08-13T17:52:19.439190Z",
     "shell.execute_reply.started": "2025-08-13T17:52:19.425662Z"
    },
    "trusted": true
   },
   "outputs": [
    {
     "data": {
      "text/html": [
       "<div>\n",
       "<style scoped>\n",
       "    .dataframe tbody tr th:only-of-type {\n",
       "        vertical-align: middle;\n",
       "    }\n",
       "\n",
       "    .dataframe tbody tr th {\n",
       "        vertical-align: top;\n",
       "    }\n",
       "\n",
       "    .dataframe thead th {\n",
       "        text-align: right;\n",
       "    }\n",
       "</style>\n",
       "<table border=\"1\" class=\"dataframe\">\n",
       "  <thead>\n",
       "    <tr style=\"text-align: right;\">\n",
       "      <th></th>\n",
       "      <th>ark_url</th>\n",
       "      <th>title</th>\n",
       "      <th>date</th>\n",
       "      <th>creator</th>\n",
       "      <th>subject</th>\n",
       "      <th>description</th>\n",
       "      <th>item_type</th>\n",
       "      <th>source_url</th>\n",
       "      <th>full_text</th>\n",
       "      <th>cleaned_text</th>\n",
       "      <th>doc_id</th>\n",
       "      <th>chunk_id</th>\n",
       "    </tr>\n",
       "  </thead>\n",
       "  <tbody>\n",
       "    <tr>\n",
       "      <th>0</th>\n",
       "      <td>https://digital.library.unt.edu/ark:/67531/met...</td>\n",
       "      <td>The End of Term Archive: Collaboratively Prese...</td>\n",
       "      <td>2018-11-13</td>\n",
       "      <td>Phillips, Mark Edward</td>\n",
       "      <td>digital libraries; government documents; web a...</td>\n",
       "      <td>Presentation the 2018 International Internet P...</td>\n",
       "      <td>Presentation</td>\n",
       "      <td>https://digital.library.unt.edu/ark:/67531/met...</td>\n",
       "      <td>Mark Phillips, UNT Libraries \\nAbbie Grotke, L...</td>\n",
       "      <td>- - - # * * the end of term archive : collabor...</td>\n",
       "      <td>0</td>\n",
       "      <td>0</td>\n",
       "    </tr>\n",
       "    <tr>\n",
       "      <th>1</th>\n",
       "      <td>https://digital.library.unt.edu/ark:/67531/met...</td>\n",
       "      <td>The End of Term Archive: Collaboratively Prese...</td>\n",
       "      <td>2018-11-13</td>\n",
       "      <td>Phillips, Mark Edward</td>\n",
       "      <td>digital libraries; government documents; web a...</td>\n",
       "      <td>Presentation the 2018 International Internet P...</td>\n",
       "      <td>Presentation</td>\n",
       "      <td>https://digital.library.unt.edu/ark:/67531/met...</td>\n",
       "      <td>Mark Phillips, UNT Libraries \\nAbbie Grotke, L...</td>\n",
       "      <td>, and others utilize tools like archive - it. ...</td>\n",
       "      <td>0</td>\n",
       "      <td>1</td>\n",
       "    </tr>\n",
       "    <tr>\n",
       "      <th>2</th>\n",
       "      <td>https://digital.library.unt.edu/ark:/67531/met...</td>\n",
       "      <td>The End of Term Archive: Collaboratively Prese...</td>\n",
       "      <td>2018-11-13</td>\n",
       "      <td>Phillips, Mark Edward</td>\n",
       "      <td>digital libraries; government documents; web a...</td>\n",
       "      <td>Presentation the 2018 International Internet P...</td>\n",
       "      <td>Presentation</td>\n",
       "      <td>https://digital.library.unt.edu/ark:/67531/met...</td>\n",
       "      <td>Mark Phillips, UNT Libraries \\nAbbie Grotke, L...</td>\n",
       "      <td>- - # # * * 5. funding and development * * * *...</td>\n",
       "      <td>0</td>\n",
       "      <td>2</td>\n",
       "    </tr>\n",
       "    <tr>\n",
       "      <th>3</th>\n",
       "      <td>https://digital.library.unt.edu/ark:/67531/met...</td>\n",
       "      <td>The End of Term Archive: Collaboratively Prese...</td>\n",
       "      <td>2018-11-13</td>\n",
       "      <td>Phillips, Mark Edward</td>\n",
       "      <td>digital libraries; government documents; web a...</td>\n",
       "      <td>Presentation the 2018 International Internet P...</td>\n",
       "      <td>Presentation</td>\n",
       "      <td>https://digital.library.unt.edu/ark:/67531/met...</td>\n",
       "      <td>Mark Phillips, UNT Libraries \\nAbbie Grotke, L...</td>\n",
       "      <td>cocciolo _ peet _ eot. pdf ] ( http : / / www....</td>\n",
       "      <td>0</td>\n",
       "      <td>3</td>\n",
       "    </tr>\n",
       "    <tr>\n",
       "      <th>4</th>\n",
       "      <td>https://digital.library.unt.edu/ark:/67531/met...</td>\n",
       "      <td>The End of Term Archive: Collaboratively Prese...</td>\n",
       "      <td>2018-11-13</td>\n",
       "      <td>Phillips, Mark Edward</td>\n",
       "      <td>digital libraries; government documents; web a...</td>\n",
       "      <td>Presentation the 2018 International Internet P...</td>\n",
       "      <td>Presentation</td>\n",
       "      <td>https://digital.library.unt.edu/ark:/67531/met...</td>\n",
       "      <td>Mark Phillips, UNT Libraries \\nAbbie Grotke, L...</td>\n",
       "      <td>change by percentage was observed. `. gov ` an...</td>\n",
       "      <td>0</td>\n",
       "      <td>4</td>\n",
       "    </tr>\n",
       "  </tbody>\n",
       "</table>\n",
       "</div>"
      ],
      "text/plain": [
       "                                             ark_url  \\\n",
       "0  https://digital.library.unt.edu/ark:/67531/met...   \n",
       "1  https://digital.library.unt.edu/ark:/67531/met...   \n",
       "2  https://digital.library.unt.edu/ark:/67531/met...   \n",
       "3  https://digital.library.unt.edu/ark:/67531/met...   \n",
       "4  https://digital.library.unt.edu/ark:/67531/met...   \n",
       "\n",
       "                                               title        date  \\\n",
       "0  The End of Term Archive: Collaboratively Prese...  2018-11-13   \n",
       "1  The End of Term Archive: Collaboratively Prese...  2018-11-13   \n",
       "2  The End of Term Archive: Collaboratively Prese...  2018-11-13   \n",
       "3  The End of Term Archive: Collaboratively Prese...  2018-11-13   \n",
       "4  The End of Term Archive: Collaboratively Prese...  2018-11-13   \n",
       "\n",
       "                 creator                                            subject  \\\n",
       "0  Phillips, Mark Edward  digital libraries; government documents; web a...   \n",
       "1  Phillips, Mark Edward  digital libraries; government documents; web a...   \n",
       "2  Phillips, Mark Edward  digital libraries; government documents; web a...   \n",
       "3  Phillips, Mark Edward  digital libraries; government documents; web a...   \n",
       "4  Phillips, Mark Edward  digital libraries; government documents; web a...   \n",
       "\n",
       "                                         description     item_type  \\\n",
       "0  Presentation the 2018 International Internet P...  Presentation   \n",
       "1  Presentation the 2018 International Internet P...  Presentation   \n",
       "2  Presentation the 2018 International Internet P...  Presentation   \n",
       "3  Presentation the 2018 International Internet P...  Presentation   \n",
       "4  Presentation the 2018 International Internet P...  Presentation   \n",
       "\n",
       "                                          source_url  \\\n",
       "0  https://digital.library.unt.edu/ark:/67531/met...   \n",
       "1  https://digital.library.unt.edu/ark:/67531/met...   \n",
       "2  https://digital.library.unt.edu/ark:/67531/met...   \n",
       "3  https://digital.library.unt.edu/ark:/67531/met...   \n",
       "4  https://digital.library.unt.edu/ark:/67531/met...   \n",
       "\n",
       "                                           full_text  \\\n",
       "0  Mark Phillips, UNT Libraries \\nAbbie Grotke, L...   \n",
       "1  Mark Phillips, UNT Libraries \\nAbbie Grotke, L...   \n",
       "2  Mark Phillips, UNT Libraries \\nAbbie Grotke, L...   \n",
       "3  Mark Phillips, UNT Libraries \\nAbbie Grotke, L...   \n",
       "4  Mark Phillips, UNT Libraries \\nAbbie Grotke, L...   \n",
       "\n",
       "                                        cleaned_text doc_id  chunk_id  \n",
       "0  - - - # * * the end of term archive : collabor...      0         0  \n",
       "1  , and others utilize tools like archive - it. ...      0         1  \n",
       "2  - - # # * * 5. funding and development * * * *...      0         2  \n",
       "3  cocciolo _ peet _ eot. pdf ] ( http : / / www....      0         3  \n",
       "4  change by percentage was observed. `. gov ` an...      0         4  "
      ]
     },
     "execution_count": 4,
     "metadata": {},
     "output_type": "execute_result"
    }
   ],
   "source": [
    "df.head()"
   ]
  },
  {
   "cell_type": "code",
   "execution_count": null,
   "metadata": {
    "execution": {
     "iopub.execute_input": "2025-08-13T17:52:19.442211Z",
     "iopub.status.busy": "2025-08-13T17:52:19.441494Z",
     "iopub.status.idle": "2025-08-13T17:54:00.713558Z",
     "shell.execute_reply": "2025-08-13T17:54:00.712789Z",
     "shell.execute_reply.started": "2025-08-13T17:52:19.442180Z"
    },
    "trusted": true
   },
   "outputs": [
    {
     "name": "stderr",
     "output_type": "stream",
     "text": [
      "2025-08-13 17:52:26.715328: E external/local_xla/xla/stream_executor/cuda/cuda_fft.cc:477] Unable to register cuFFT factory: Attempting to register factory for plugin cuFFT when one has already been registered\n",
      "WARNING: All log messages before absl::InitializeLog() is called are written to STDERR\n",
      "E0000 00:00:1755107546.986725      36 cuda_dnn.cc:8310] Unable to register cuDNN factory: Attempting to register factory for plugin cuDNN when one has already been registered\n",
      "E0000 00:00:1755107547.062125      36 cuda_blas.cc:1418] Unable to register cuBLAS factory: Attempting to register factory for plugin cuBLAS when one has already been registered\n"
     ]
    },
    {
     "data": {
      "application/vnd.jupyter.widget-view+json": {
       "model_id": "0bf1afc8e610436aa4f08000c8483943",
       "version_major": 2,
       "version_minor": 0
      },
      "text/plain": [
       "modules.json:   0%|          | 0.00/349 [00:00<?, ?B/s]"
      ]
     },
     "metadata": {},
     "output_type": "display_data"
    },
    {
     "data": {
      "application/vnd.jupyter.widget-view+json": {
       "model_id": "291ff5284a64423d9ba9eaebbaf9e133",
       "version_major": 2,
       "version_minor": 0
      },
      "text/plain": [
       "config_sentence_transformers.json:   0%|          | 0.00/124 [00:00<?, ?B/s]"
      ]
     },
     "metadata": {},
     "output_type": "display_data"
    },
    {
     "data": {
      "application/vnd.jupyter.widget-view+json": {
       "model_id": "b0381daab0aa4a9cb8044a48de7a1a17",
       "version_major": 2,
       "version_minor": 0
      },
      "text/plain": [
       "README.md: 0.00B [00:00, ?B/s]"
      ]
     },
     "metadata": {},
     "output_type": "display_data"
    },
    {
     "data": {
      "application/vnd.jupyter.widget-view+json": {
       "model_id": "48af02317aed47d191a159dd2d6cba05",
       "version_major": 2,
       "version_minor": 0
      },
      "text/plain": [
       "sentence_bert_config.json:   0%|          | 0.00/52.0 [00:00<?, ?B/s]"
      ]
     },
     "metadata": {},
     "output_type": "display_data"
    },
    {
     "data": {
      "application/vnd.jupyter.widget-view+json": {
       "model_id": "a5d562ca45a3488d9f91bc9ce770562e",
       "version_major": 2,
       "version_minor": 0
      },
      "text/plain": [
       "config.json:   0%|          | 0.00/777 [00:00<?, ?B/s]"
      ]
     },
     "metadata": {},
     "output_type": "display_data"
    },
    {
     "data": {
      "application/vnd.jupyter.widget-view+json": {
       "model_id": "08d3d93a8f574da2aaa2790c57e2414e",
       "version_major": 2,
       "version_minor": 0
      },
      "text/plain": [
       "model.safetensors:   0%|          | 0.00/438M [00:00<?, ?B/s]"
      ]
     },
     "metadata": {},
     "output_type": "display_data"
    },
    {
     "data": {
      "application/vnd.jupyter.widget-view+json": {
       "model_id": "6ada4276f30d4809b6c525db951e1f24",
       "version_major": 2,
       "version_minor": 0
      },
      "text/plain": [
       "config.json:   0%|          | 0.00/190 [00:00<?, ?B/s]"
      ]
     },
     "metadata": {},
     "output_type": "display_data"
    },
    {
     "data": {
      "application/vnd.jupyter.widget-view+json": {
       "model_id": "677a87724cf14ba3b5a3f0b84d0f027c",
       "version_major": 2,
       "version_minor": 0
      },
      "text/plain": [
       "Batches:   0%|          | 0/74 [00:00<?, ?it/s]"
      ]
     },
     "metadata": {},
     "output_type": "display_data"
    },
    {
     "name": "stdout",
     "output_type": "stream",
     "text": [
      "✅ Embeddings and all metadata saved successfully.\n"
     ]
    }
   ],
   "source": [
    "from sentence_transformers import SentenceTransformer\n",
    "import pickle\n",
    "\n",
    "# Load the embedding model\n",
    "model = SentenceTransformer('BAAI/bge-base-en-v1.5')\n",
    "\n",
    "\n",
    "df['combined_text'] = (\n",
    "    \"This item is titled '\" + df['title'].fillna('') + \n",
    "    \"' and was created by \" + df['creator'].fillna('Unknown') + \". \" +\n",
    "    \"It is about \" + df['subject'].fillna('various topics') + \". \" +\n",
    "    \"Description: \" + df['description'].fillna('No description provided.') + \" \" +\n",
    "    \"Main content: \" + df['cleaned_text'].fillna('') + \" \" +\n",
    "    \"It is classified as \" + df['item_type'].fillna('unknown type') +\n",
    "    \", dated \" + df['date'].fillna('unknown date') + \". \" +\n",
    "    \"You can find it at \" + df['ark_url'].fillna('') + \n",
    "    \" (source: \" + df['source_url'].fillna('') + \").\"\n",
    ")\n",
    "\n",
    "\n",
    "\n",
    "# Create embeddings for the combined text\n",
    "embeddings = model.encode(df['combined_text'].tolist(), show_progress_bar=True)\n",
    "\n",
    "with open('/kaggle/working/embeddings_v3.pkl', 'wb') as f:\n",
    "    pickle.dump({\n",
    "        'embeddings': embeddings,\n",
    "        'combined_texts': df['combined_text'].tolist(),\n",
    "        'doc_ids': df['doc_id'].tolist()\n",
    "    }, f)\n",
    "\n",
    "\n",
    "\n",
    "print(\"✅ Embeddings and all metadata saved successfully.\")\n"
   ]
  },
  {
   "cell_type": "code",
   "execution_count": 6,
   "metadata": {
    "execution": {
     "iopub.execute_input": "2025-08-13T17:54:00.715412Z",
     "iopub.status.busy": "2025-08-13T17:54:00.715137Z",
     "iopub.status.idle": "2025-08-13T17:54:06.952605Z",
     "shell.execute_reply": "2025-08-13T17:54:06.951729Z",
     "shell.execute_reply.started": "2025-08-13T17:54:00.715391Z"
    },
    "trusted": true
   },
   "outputs": [
    {
     "name": "stderr",
     "output_type": "stream",
     "text": [
      "huggingface/tokenizers: The current process just got forked, after parallelism has already been used. Disabling parallelism to avoid deadlocks...\n",
      "To disable this warning, you can either:\n",
      "\t- Avoid using `tokenizers` before the fork if possible\n",
      "\t- Explicitly set the environment variable TOKENIZERS_PARALLELISM=(true | false)\n"
     ]
    },
    {
     "name": "stdout",
     "output_type": "stream",
     "text": [
      "Collecting faiss-cpu\n",
      "  Downloading faiss_cpu-1.12.0-cp311-cp311-manylinux_2_27_x86_64.manylinux_2_28_x86_64.whl.metadata (5.1 kB)\n",
      "Requirement already satisfied: numpy<3.0,>=1.25.0 in /usr/local/lib/python3.11/dist-packages (from faiss-cpu) (1.26.4)\n",
      "Requirement already satisfied: packaging in /usr/local/lib/python3.11/dist-packages (from faiss-cpu) (25.0)\n",
      "Requirement already satisfied: mkl_fft in /usr/local/lib/python3.11/dist-packages (from numpy<3.0,>=1.25.0->faiss-cpu) (1.3.8)\n",
      "Requirement already satisfied: mkl_random in /usr/local/lib/python3.11/dist-packages (from numpy<3.0,>=1.25.0->faiss-cpu) (1.2.4)\n",
      "Requirement already satisfied: mkl_umath in /usr/local/lib/python3.11/dist-packages (from numpy<3.0,>=1.25.0->faiss-cpu) (0.1.1)\n",
      "Requirement already satisfied: mkl in /usr/local/lib/python3.11/dist-packages (from numpy<3.0,>=1.25.0->faiss-cpu) (2025.2.0)\n",
      "Requirement already satisfied: tbb4py in /usr/local/lib/python3.11/dist-packages (from numpy<3.0,>=1.25.0->faiss-cpu) (2022.2.0)\n",
      "Requirement already satisfied: mkl-service in /usr/local/lib/python3.11/dist-packages (from numpy<3.0,>=1.25.0->faiss-cpu) (2.4.1)\n",
      "Requirement already satisfied: intel-openmp<2026,>=2024 in /usr/local/lib/python3.11/dist-packages (from mkl->numpy<3.0,>=1.25.0->faiss-cpu) (2024.2.0)\n",
      "Requirement already satisfied: tbb==2022.* in /usr/local/lib/python3.11/dist-packages (from mkl->numpy<3.0,>=1.25.0->faiss-cpu) (2022.2.0)\n",
      "Requirement already satisfied: tcmlib==1.* in /usr/local/lib/python3.11/dist-packages (from tbb==2022.*->mkl->numpy<3.0,>=1.25.0->faiss-cpu) (1.4.0)\n",
      "Requirement already satisfied: intel-cmplr-lib-rt in /usr/local/lib/python3.11/dist-packages (from mkl_umath->numpy<3.0,>=1.25.0->faiss-cpu) (2024.2.0)\n",
      "Requirement already satisfied: intel-cmplr-lib-ur==2024.2.0 in /usr/local/lib/python3.11/dist-packages (from intel-openmp<2026,>=2024->mkl->numpy<3.0,>=1.25.0->faiss-cpu) (2024.2.0)\n",
      "Downloading faiss_cpu-1.12.0-cp311-cp311-manylinux_2_27_x86_64.manylinux_2_28_x86_64.whl (31.4 MB)\n",
      "\u001b[2K   \u001b[90m━━━━━━━━━━━━━━━━━━━━━━━━━━━━━━━━━━━━━━━━\u001b[0m \u001b[32m31.4/31.4 MB\u001b[0m \u001b[31m53.7 MB/s\u001b[0m eta \u001b[36m0:00:00\u001b[0m:00:01\u001b[0m00:01\u001b[0m\n",
      "\u001b[?25hInstalling collected packages: faiss-cpu\n",
      "Successfully installed faiss-cpu-1.12.0\n",
      "Note: you may need to restart the kernel to use updated packages.\n"
     ]
    }
   ],
   "source": [
    "pip install faiss-cpu"
   ]
  },
  {
   "cell_type": "code",
   "execution_count": 7,
   "metadata": {
    "execution": {
     "iopub.execute_input": "2025-08-13T17:54:06.953877Z",
     "iopub.status.busy": "2025-08-13T17:54:06.953573Z",
     "iopub.status.idle": "2025-08-13T17:54:07.021012Z",
     "shell.execute_reply": "2025-08-13T17:54:07.020196Z",
     "shell.execute_reply.started": "2025-08-13T17:54:06.953849Z"
    },
    "trusted": true
   },
   "outputs": [],
   "source": [
    "import pickle\n",
    "import numpy as np\n",
    "import faiss\n",
    "# Load pickle data\n",
    "with open('/kaggle/working/embeddings_v3.pkl', 'rb') as f:\n",
    "    data = pickle.load(f)\n",
    "\n",
    "embeddings = np.array(data['embeddings']).astype('float32')\n",
    "\n",
    "# Create FAISS index\n",
    "index = faiss.IndexFlatL2(embeddings.shape[1])\n",
    "index.add(embeddings)\n"
   ]
  },
  {
   "cell_type": "code",
   "execution_count": null,
   "metadata": {
    "execution": {
     "iopub.execute_input": "2025-08-13T17:54:07.022145Z",
     "iopub.status.busy": "2025-08-13T17:54:07.021915Z",
     "iopub.status.idle": "2025-08-13T17:54:07.029720Z",
     "shell.execute_reply": "2025-08-13T17:54:07.028936Z",
     "shell.execute_reply.started": "2025-08-13T17:54:07.022126Z"
    },
    "trusted": true
   },
   "outputs": [],
   "source": [
    "def retrieve_top_k(query,k_chunks=30, k_docs=3, k_final=10):\n",
    "\n",
    "    # 1. Encode query\n",
    "    query_embedding = model.encode([query])\n",
    "\n",
    "    # 2. Search top chunks\n",
    "    distances, indices = index.search(np.array(query_embedding).astype('float32'), k_chunks)\n",
    "\n",
    "    # 3. Collect results with doc_id\n",
    "    retrieved = []\n",
    "    for idx, dist in zip(indices[0], distances[0]):\n",
    "        retrieved.append({\n",
    "            'doc_id': data['doc_ids'][idx],\n",
    "            'combined_text': data['combined_texts'][idx],\n",
    "            'score': float(dist)\n",
    "        })\n",
    "\n",
    "    # 4. Group by doc_id and take best score per doc\n",
    "    from collections import defaultdict\n",
    "    doc_scores = defaultdict(list)\n",
    "    for r in retrieved:\n",
    "        doc_scores[r['doc_id']].append(r)\n",
    "\n",
    "    # Rank docs by their best chunk score (lower distance = better)\n",
    "    ranked_docs = sorted(doc_scores.items(), key=lambda x: min(c['score'] for c in x[1]))[:k_docs]\n",
    "\n",
    "    # 5. From these top docs, flatten all their chunks and re-sort globally\n",
    "    selected_chunks = []\n",
    "    for _, chunks in ranked_docs:\n",
    "        # sort chunks within doc by score\n",
    "        chunks_sorted = sorted(chunks, key=lambda c: c['score'])\n",
    "        selected_chunks.extend(chunks_sorted)\n",
    "\n",
    "    # 6. Take top k_final chunks overall\n",
    "    final_results = sorted(selected_chunks, key=lambda c: c['score'])[:k_final]\n",
    "    return final_results\n"
   ]
  },
  {
   "cell_type": "code",
   "execution_count": null,
   "metadata": {
    "execution": {
     "iopub.execute_input": "2025-08-13T17:54:07.030984Z",
     "iopub.status.busy": "2025-08-13T17:54:07.030691Z",
     "iopub.status.idle": "2025-08-13T17:54:08.003835Z",
     "shell.execute_reply": "2025-08-13T17:54:08.002898Z",
     "shell.execute_reply.started": "2025-08-13T17:54:07.030958Z"
    },
    "trusted": true
   },
   "outputs": [],
   "source": [
    "import google.generativeai as genai\n",
    "\n",
    "# Configure your Gemini API key\n",
    "genai.configure(api_key=\"add-your-api-key-here\")\n",
    "\n",
    "MODEL_NAME = \"gemini-2.5-flash-lite\"  # Gemini 2.5 Flash-Lite\n",
    "\n",
    "AiModel = genai.GenerativeModel(MODEL_NAME)\n",
    "\n",
    "def generate_response(query, context_docs):\n",
    "    context_parts = []\n",
    "    for doc in context_docs:\n",
    "        context_parts.append(\n",
    "            f\"{doc['combined_text']}\\n----\"\n",
    "        )\n",
    "    context = \"\\n\".join(context_parts)\n",
    "\n",
    "    prompt = f\"\"\"You are an expert digital preservation and web archiving assistant for the International Internet Preservation Consortium (IIPC). Your role is to provide comprehensive, accurate answers using ONLY the IIPC conference materials, presentations, and research papers provided below.\n",
    "\n",
    "CONTEXT UNDERSTANDING:\n",
    "Each document contains structured metadata including Title, Creator, Date, Subject, Description, Item Type, and extracted content from IIPC conferences spanning multiple years. These materials cover cutting-edge research, best practices, tools, and methodologies in web archiving and digital preservation.\n",
    "\n",
    "RESPONSE REQUIREMENTS:\n",
    "\n",
    "1. ACCURACY & SOURCE FIDELITY:\n",
    "   - Base your answers STRICTLY on the provided context\n",
    "   - Never add information from outside sources or general knowledge\n",
    "   - If information is insufficient, clearly state \"Based on the available IIPC materials, I don't have enough information to fully answer this question\"\n",
    "\n",
    "2. SOURCE ATTRIBUTION:\n",
    "   - When referencing specific information, mention the source document title and author when available\n",
    "   - For presentations, include the year of the conference when mentioned\n",
    "   - Example: \"According to [Author Name]'s presentation '[Title]' from the [Year] IIPC conference...\"\n",
    "\n",
    "3. COMPREHENSIVE COVERAGE:\n",
    "   - Synthesize information from multiple relevant documents when applicable\n",
    "   - Provide context about the evolution of topics across different conference years\n",
    "   - Include both theoretical concepts and practical implementations mentioned\n",
    "\n",
    "4. TECHNICAL ACCURACY:\n",
    "   - Use precise terminology from web archiving and digital preservation fields\n",
    "   - Explain technical concepts clearly while maintaining accuracy\n",
    "   - Reference specific tools, standards (like WARC), and methodologies mentioned in the materials\n",
    "\n",
    "5. RESPONSE STRUCTURE:\n",
    "   - Start with a direct answer to the main question\n",
    "   - Provide supporting details and examples from the materials\n",
    "   - When relevant, mention different perspectives or approaches from various presenters\n",
    "   - Conclude with practical implications or current relevance if discussed in the materials\n",
    "\n",
    "6. FORMATTING:\n",
    "   - Use clear, professional language appropriate for researchers and practitioners\n",
    "   - Structure longer responses with clear paragraphs\n",
    "   - Use simple bullet points (with dashes) only when listing distinct items or steps\n",
    "   - Avoid markdown formatting symbols\n",
    "\n",
    "7. TEMPORAL CONTEXT:\n",
    "   - When discussing developments or trends, reference the timeframe based on conference dates\n",
    "   - Highlight how approaches or technologies have evolved according to the materials\n",
    "   - Note any historical context provided in the presentations\n",
    "\n",
    "Context from IIPC Conference Materials:\n",
    "{context}\n",
    "\n",
    "User Question: {query}\n",
    "\n",
    "Response:\"\"\"\n",
    "\n",
    "    response = AiModel.generate_content(prompt)\n",
    "    return response.text\n",
    "\n"
   ]
  },
  {
   "cell_type": "code",
   "execution_count": 12,
   "metadata": {
    "execution": {
     "iopub.execute_input": "2025-08-13T17:55:49.969070Z",
     "iopub.status.busy": "2025-08-13T17:55:49.968203Z",
     "iopub.status.idle": "2025-08-13T17:55:53.364056Z",
     "shell.execute_reply": "2025-08-13T17:55:53.363148Z",
     "shell.execute_reply.started": "2025-08-13T17:55:49.969034Z"
    },
    "trusted": true
   },
   "outputs": [
    {
     "data": {
      "application/vnd.jupyter.widget-view+json": {
       "model_id": "a50902b4ab9a4634acb906d0681dccc4",
       "version_major": 2,
       "version_minor": 0
      },
      "text/plain": [
       "Batches:   0%|          | 0/1 [00:00<?, ?it/s]"
      ]
     },
     "metadata": {},
     "output_type": "display_data"
    },
    {
     "name": "stdout",
     "output_type": "stream",
     "text": [
      "\n",
      "🤖 Gemini Answer:\n",
      " Based on the available IIPC materials, several legal issues affect web archiving:\n",
      "\n",
      "Copyright is a significant legal issue, as mentioned in Alejandra Michel's presentation \"The legal framework for web archiving: focussing on GDPR\" from the 2019 IIPC conference. This presentation also notes that other legal issues include privacy law, data protection law, missions of national cultural heritage institutions, illegal contents, probative value of web archives, and the definition of the \"national\" web.\n",
      "\n",
      "The General Data Protection Regulation (GDPR) in the European Union is also a key legal framework influencing web archiving. Alejandra Michel's presentation highlights that the GDPR applies to web archiving because it involves the processing of websites that may contain personal data. Personal data is defined as \"any information relating to an identified or identifiable natural person,\" which in web archiving can include names, contact details, bibliographic data, photos, and biographies. The act of processing is defined as \"any operation or set of operations which is performed on personal data or on sets of personal data,\" including harvesting, collecting, capturing, long-term preservation, consultation, communication, access, and erasure.\n",
      "\n",
      "The GDPR provides a \"softened regime\" for data processing activities undertaken for archiving purposes in the public interest. Beneficiaries of this regime include public authorities or bodies that hold records of public interest and have a legal obligation to acquire, preserve, appraise, arrange, describe, communicate, promote, disseminate, and provide access to records of enduring value for the general public interest. Member states can define this concept in national law and designate services that fall under this category.\n",
      "\n",
      "Specific derogations from GDPR principles and rights are also relevant. For example:\n",
      "- Processing for archiving purposes is considered compatible with initial purposes, provided appropriate safeguards are adopted.\n",
      "- Storage limitation allows data to be stored for longer periods, again with appropriate safeguards.\n",
      "- Processing of special categories of personal data is permitted if necessary for archiving purposes and if union law or member state national law specifically permits it.\n",
      "- Requirements for providing information when data is not obtained from the data subject may not apply if it proves impossible or involves disproportionate effort, or if appropriate measures are implemented.\n",
      "- The right to erasure may not apply if appropriate safeguards are in place and the exercise of this right would render the achievement of specific archiving purposes impossible or seriously impair it.\n",
      "- Rights of access, rectification, restriction, and objection may also not apply or may be restricted under certain conditions, such as the necessity for the archiving purpose and the potential impairment of achieving those purposes.\n",
      "- The right to data portability may not apply as stipulated by appropriate safeguards in union or member state national law.\n",
      "- Notification obligations regarding rectification, erasure, or restriction of personal data to recipients may also have specific conditions.\n",
      "\n",
      "Furthermore, Rod Wittenberg's presentation \"Web archives for investigation, e-discovery and compliance for the legal industry\" from the 2012 IIPC General Assembly discusses the importance of web archives for the legal industry, particularly in combating link rot. The integrity of legal opinions can be diminished when cited case references become inaccessible due to link rot, which is defined as a URL no longer providing access to its intended content. The presentation cites empirical evidence showing a progressive loss of web content over time, highlighting the ephemerality of web content and the risk of it being lost. This underscores the value of web archives for legal processes such as investigation, e-discovery, and compliance. The presentation also touches upon authentication challenges with web content, referencing legal principles like Federal Rule of Evidence (FRE) 901, and case law examples illustrating these challenges.\n"
     ]
    }
   ],
   "source": [
    "query = \"What legal issues affect web archiving?\"\n",
    "results = retrieve_top_k(query)\n",
    "answer = generate_response(query, results)\n",
    "\n",
    "print(\"\\n🤖 Gemini Answer:\\n\", answer)\n"
   ]
  }
 ],
 "metadata": {
  "kaggle": {
   "accelerator": "nvidiaTeslaT4",
   "dataSources": [
    {
     "datasetId": 7943138,
     "sourceId": 12577138,
     "sourceType": "datasetVersion"
    },
    {
     "datasetId": 7999287,
     "sourceId": 12658021,
     "sourceType": "datasetVersion"
    }
   ],
   "dockerImageVersionId": 31089,
   "isGpuEnabled": true,
   "isInternetEnabled": true,
   "language": "python",
   "sourceType": "notebook"
  },
  "kernelspec": {
   "display_name": "Python 3",
   "language": "python",
   "name": "python3"
  },
  "language_info": {
   "codemirror_mode": {
    "name": "ipython",
    "version": 3
   },
   "file_extension": ".py",
   "mimetype": "text/x-python",
   "name": "python",
   "nbconvert_exporter": "python",
   "pygments_lexer": "ipython3",
   "version": "3.11.13"
  }
 },
 "nbformat": 4,
 "nbformat_minor": 4
}
